{
 "cells": [
  {
   "cell_type": "code",
   "execution_count": 16,
   "metadata": {},
   "outputs": [],
   "source": [
    "import pandas as pd                         # For handling CSV files and dataframes\n",
    "from sklearn.model_selection import train_test_split  # For splitting data into training and evaluation sets\n",
    "from datasets import Dataset                # For converting dataframes to Hugging Face datasets\n",
    "from transformers import AutoTokenizer, AutoModelForSequenceClassification, Trainer, TrainingArguments  # Hugging Face tools"
   ]
  },
  {
   "cell_type": "code",
   "execution_count": 17,
   "metadata": {},
   "outputs": [],
   "source": [
    "data = {\n",
    "    'text': [\n",
    "        \"Patient diagnosed with Type 2 Diabetes. Prescribed Metformin.\",\n",
    "        \"Blood pressure is elevated. Recommend increasing dosage of Lisinopril.\",\n",
    "        \"MRI shows a herniated disc at L4-L5. Consider surgical consultation.\",\n",
    "        \"Follow-up required for abnormal liver enzyme levels.\",\n",
    "        \"Patient reports increased shortness of breath. Check for possible COPD exacerbation.\",\n",
    "        \"Hemoglobin levels are low. Suggest iron supplements.\",\n",
    "        \"Cholesterol levels are high. Initiate statin therapy.\",\n",
    "        \"Signs of early-stage kidney disease. Advise on low-protein diet.\",\n",
    "        \"Recommend regular blood sugar monitoring.\",\n",
    "        \"Patient experiencing joint pain. Consider Rheumatology referral.\"\n",
    "    ],\n",
    "    'label': [\n",
    "        \"Diabetes Management\", \"Hypertension Management\", \"Spinal Surgery\",\n",
    "        \"Liver Function\", \"COPD Management\", \"Anemia Management\",\n",
    "        \"Hyperlipidemia\", \"Kidney Function\", \"Diabetes Monitoring\", \"Arthritis Management\"\n",
    "    ]\n",
    "}\n"
   ]
  },
  {
   "cell_type": "code",
   "execution_count": 18,
   "metadata": {},
   "outputs": [],
   "source": [
    "# Step 2: Define a label mapping (convert string labels to integers)\n",
    "label_mapping = {\n",
    "    \"Diabetes Management\": 0,\n",
    "    \"Hypertension Management\": 1,\n",
    "    \"Spinal Surgery\": 2,\n",
    "    \"Liver Function\": 3,\n",
    "    \"COPD Management\": 4,\n",
    "    \"Anemia Management\": 5,\n",
    "    \"Hyperlipidemia\": 6,\n",
    "    \"Kidney Function\": 7,\n",
    "    \"Diabetes Monitoring\": 8,\n",
    "    \"Arthritis Management\": 9\n",
    "}\n",
    "\n",
    "# Step 3: Apply the label mapping\n",
    "df = pd.DataFrame(data)\n",
    "df['label'] = df['label'].map(label_mapping)\n",
    "dataset = Dataset.from_pandas(df)"
   ]
  },
  {
   "cell_type": "code",
   "execution_count": 19,
   "metadata": {},
   "outputs": [
    {
     "name": "stderr",
     "output_type": "stream",
     "text": [
      "d:\\Marginal utilities\\anaconda\\Lib\\site-packages\\huggingface_hub\\file_download.py:1150: FutureWarning: `resume_download` is deprecated and will be removed in version 1.0.0. Downloads always resume when possible. If you want to force a new download, use `force_download=True`.\n",
      "  warnings.warn(\n"
     ]
    }
   ],
   "source": [
    "\n",
    "# Load the pre-trained BioBERT tokenizer\n",
    "tokenizer = AutoTokenizer.from_pretrained(\"dmis-lab/biobert-base-cased-v1.1\")\n"
   ]
  },
  {
   "cell_type": "code",
   "execution_count": 20,
   "metadata": {},
   "outputs": [],
   "source": [
    "def tokenize_function(example):\n",
    "    return tokenizer(\n",
    "        example['text'], \n",
    "        padding='max_length',        # Pad all sentences to the model's max length\n",
    "        truncation=True,             # Truncate longer sequences\n",
    "        max_length=128               # Set max length to avoid excessive padding\n",
    "    )"
   ]
  },
  {
   "cell_type": "code",
   "execution_count": 21,
   "metadata": {},
   "outputs": [
    {
     "data": {
      "application/vnd.jupyter.widget-view+json": {
       "model_id": "68934870c84c4e5b8b26301827aec53f",
       "version_major": 2,
       "version_minor": 0
      },
      "text/plain": [
       "Map:   0%|          | 0/10 [00:00<?, ? examples/s]"
      ]
     },
     "metadata": {},
     "output_type": "display_data"
    }
   ],
   "source": [
    "tokenized_dataset = dataset.map(tokenize_function, batched=True)"
   ]
  },
  {
   "cell_type": "code",
   "execution_count": 22,
   "metadata": {},
   "outputs": [],
   "source": [
    "train_test_split = tokenized_dataset.train_test_split(test_size=0.2)\n",
    "train_dataset = train_test_split['train']\n",
    "eval_dataset = train_test_split['test']\n"
   ]
  },
  {
   "cell_type": "code",
   "execution_count": 23,
   "metadata": {},
   "outputs": [
    {
     "name": "stderr",
     "output_type": "stream",
     "text": [
      "d:\\Marginal utilities\\anaconda\\Lib\\site-packages\\transformers\\modeling_utils.py:479: FutureWarning: You are using `torch.load` with `weights_only=False` (the current default value), which uses the default pickle module implicitly. It is possible to construct malicious pickle data which will execute arbitrary code during unpickling (See https://github.com/pytorch/pytorch/blob/main/SECURITY.md#untrusted-models for more details). In a future release, the default value for `weights_only` will be flipped to `True`. This limits the functions that could be executed during unpickling. Arbitrary objects will no longer be allowed to be loaded via this mode unless they are explicitly allowlisted by the user via `torch.serialization.add_safe_globals`. We recommend you start setting `weights_only=True` for any use case where you don't have full control of the loaded file. Please open an issue on GitHub for any issues related to this experimental feature.\n",
      "  return torch.load(checkpoint_file, map_location=map_location)\n",
      "Some weights of BertForSequenceClassification were not initialized from the model checkpoint at dmis-lab/biobert-base-cased-v1.1 and are newly initialized: ['classifier.weight', 'classifier.bias']\n",
      "You should probably TRAIN this model on a down-stream task to be able to use it for predictions and inference.\n"
     ]
    }
   ],
   "source": [
    "model = AutoModelForSequenceClassification.from_pretrained(\n",
    "    \"dmis-lab/biobert-base-cased-v1.1\", num_labels=len(label_mapping)\n",
    ")"
   ]
  },
  {
   "cell_type": "code",
   "execution_count": 24,
   "metadata": {},
   "outputs": [],
   "source": [
    "training_args = TrainingArguments(\n",
    "    output_dir='./results',\n",
    "    evaluation_strategy=\"epoch\",\n",
    "    learning_rate=2e-5,\n",
    "    per_device_train_batch_size=16,\n",
    "    per_device_eval_batch_size=16,\n",
    "    num_train_epochs=3,\n",
    "    weight_decay=0.01\n",
    ")"
   ]
  },
  {
   "cell_type": "code",
   "execution_count": 25,
   "metadata": {},
   "outputs": [
    {
     "name": "stderr",
     "output_type": "stream",
     "text": [
      "C:\\Users\\jpsri\\AppData\\Roaming\\Python\\Python311\\site-packages\\accelerate\\accelerator.py:457: FutureWarning: Passing the following arguments to `Accelerator` is deprecated and will be removed in version 1.0 of Accelerate: dict_keys(['dispatch_batches']). Please pass an `accelerate.DataLoaderConfiguration` instead: \n",
      "dataloader_config = DataLoaderConfiguration(dispatch_batches=None)\n",
      "  warnings.warn(\n"
     ]
    },
    {
     "data": {
      "application/vnd.jupyter.widget-view+json": {
       "model_id": "97db6e4175d2448eadd5b9698d43bc40",
       "version_major": 2,
       "version_minor": 0
      },
      "text/plain": [
       "  0%|          | 0/3 [00:00<?, ?it/s]"
      ]
     },
     "metadata": {},
     "output_type": "display_data"
    },
    {
     "data": {
      "application/vnd.jupyter.widget-view+json": {
       "model_id": "f04262b68b6547b39c45158b5cd83533",
       "version_major": 2,
       "version_minor": 0
      },
      "text/plain": [
       "  0%|          | 0/1 [00:00<?, ?it/s]"
      ]
     },
     "metadata": {},
     "output_type": "display_data"
    },
    {
     "name": "stdout",
     "output_type": "stream",
     "text": [
      "{'eval_loss': 1.9824172258377075, 'eval_runtime': 0.678, 'eval_samples_per_second': 2.95, 'eval_steps_per_second': 1.475, 'epoch': 1.0}\n"
     ]
    },
    {
     "data": {
      "application/vnd.jupyter.widget-view+json": {
       "model_id": "ffe7dbb66f354943be4ca6c02619eebc",
       "version_major": 2,
       "version_minor": 0
      },
      "text/plain": [
       "  0%|          | 0/1 [00:00<?, ?it/s]"
      ]
     },
     "metadata": {},
     "output_type": "display_data"
    },
    {
     "name": "stdout",
     "output_type": "stream",
     "text": [
      "{'eval_loss': 2.006671905517578, 'eval_runtime': 0.5112, 'eval_samples_per_second': 3.912, 'eval_steps_per_second': 1.956, 'epoch': 2.0}\n"
     ]
    },
    {
     "data": {
      "application/vnd.jupyter.widget-view+json": {
       "model_id": "198dfbc1e2094a9db9e5dacef6ed653d",
       "version_major": 2,
       "version_minor": 0
      },
      "text/plain": [
       "  0%|          | 0/1 [00:00<?, ?it/s]"
      ]
     },
     "metadata": {},
     "output_type": "display_data"
    },
    {
     "name": "stdout",
     "output_type": "stream",
     "text": [
      "{'eval_loss': 2.021620750427246, 'eval_runtime': 1.2343, 'eval_samples_per_second': 1.62, 'eval_steps_per_second': 0.81, 'epoch': 3.0}\n",
      "{'train_runtime': 28.8492, 'train_samples_per_second': 0.832, 'train_steps_per_second': 0.104, 'train_loss': 2.3633880615234375, 'epoch': 3.0}\n"
     ]
    },
    {
     "data": {
      "text/plain": [
       "TrainOutput(global_step=3, training_loss=2.3633880615234375, metrics={'train_runtime': 28.8492, 'train_samples_per_second': 0.832, 'train_steps_per_second': 0.104, 'train_loss': 2.3633880615234375, 'epoch': 3.0})"
      ]
     },
     "execution_count": 25,
     "metadata": {},
     "output_type": "execute_result"
    }
   ],
   "source": [
    "trainer = Trainer(\n",
    "    model=model,\n",
    "    args=training_args,\n",
    "    train_dataset=train_dataset,\n",
    "    eval_dataset=eval_dataset\n",
    ")\n",
    "\n",
    "# Start the training process\n",
    "trainer.train()\n"
   ]
  }
 ],
 "metadata": {
  "kernelspec": {
   "display_name": "base",
   "language": "python",
   "name": "python3"
  },
  "language_info": {
   "codemirror_mode": {
    "name": "ipython",
    "version": 3
   },
   "file_extension": ".py",
   "mimetype": "text/x-python",
   "name": "python",
   "nbconvert_exporter": "python",
   "pygments_lexer": "ipython3",
   "version": "3.11.5"
  }
 },
 "nbformat": 4,
 "nbformat_minor": 2
}
